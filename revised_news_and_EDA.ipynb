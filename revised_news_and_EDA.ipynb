{
 "cells": [
  {
   "cell_type": "code",
   "execution_count": 4,
   "metadata": {
    "colab": {
     "base_uri": "https://localhost:8080/",
     "height": 423
    },
    "id": "QRjZEIUTRfSF",
    "outputId": "2140e3a5-73c2-48da-ec15-acac388132ce"
   },
   "outputs": [
    {
     "data": {
      "text/html": [
       "<div>\n",
       "<style scoped>\n",
       "    .dataframe tbody tr th:only-of-type {\n",
       "        vertical-align: middle;\n",
       "    }\n",
       "\n",
       "    .dataframe tbody tr th {\n",
       "        vertical-align: top;\n",
       "    }\n",
       "\n",
       "    .dataframe thead th {\n",
       "        text-align: right;\n",
       "    }\n",
       "</style>\n",
       "<table border=\"1\" class=\"dataframe\">\n",
       "  <thead>\n",
       "    <tr style=\"text-align: right;\">\n",
       "      <th></th>\n",
       "      <th>Title</th>\n",
       "      <th>Original_Text</th>\n",
       "      <th>Sentence</th>\n",
       "    </tr>\n",
       "  </thead>\n",
       "  <tbody>\n",
       "    <tr>\n",
       "      <th>0</th>\n",
       "      <td>Yes Bonds Could Still Rally Even With Yields B...</td>\n",
       "      <td>Bond Yields Hit Record Lows is a headline tha...</td>\n",
       "      <td>first the 30year bond yield fell past 2% then ...</td>\n",
       "    </tr>\n",
       "    <tr>\n",
       "      <th>1</th>\n",
       "      <td>Yes Bonds Could Still Rally Even With Yields B...</td>\n",
       "      <td>Bond Yields Hit Record Lows is a headline tha...</td>\n",
       "      <td>a few market veterans also recall bondmarket r...</td>\n",
       "    </tr>\n",
       "    <tr>\n",
       "      <th>2</th>\n",
       "      <td>Yes Bonds Could Still Rally Even With Yields B...</td>\n",
       "      <td>Bond Yields Hit Record Lows is a headline tha...</td>\n",
       "      <td>and even fewer stuck their necks out then to d...</td>\n",
       "    </tr>\n",
       "    <tr>\n",
       "      <th>3</th>\n",
       "      <td>Yes Bonds Could Still Rally Even With Yields B...</td>\n",
       "      <td>Bond Yields Hit Record Lows is a headline tha...</td>\n",
       "      <td>today some of these early and prescient bond b...</td>\n",
       "    </tr>\n",
       "    <tr>\n",
       "      <th>4</th>\n",
       "      <td>Yes Bonds Could Still Rally Even With Yields B...</td>\n",
       "      <td>Bond Yields Hit Record Lows is a headline tha...</td>\n",
       "      <td>i never bought bonds for yield he said.</td>\n",
       "    </tr>\n",
       "    <tr>\n",
       "      <th>...</th>\n",
       "      <td>...</td>\n",
       "      <td>...</td>\n",
       "      <td>...</td>\n",
       "    </tr>\n",
       "    <tr>\n",
       "      <th>1007741</th>\n",
       "      <td>Poised to Leave Bankruptcy iHeartMedia Files f...</td>\n",
       "      <td>iHeartMedia Inc. the nations largest radio bro...</td>\n",
       "      <td>the nations largest radio broadcaster said wed...</td>\n",
       "    </tr>\n",
       "    <tr>\n",
       "      <th>1007742</th>\n",
       "      <td>Poised to Leave Bankruptcy iHeartMedia Files f...</td>\n",
       "      <td>iHeartMedia Inc. the nations largest radio bro...</td>\n",
       "      <td>the company with 848 radio stations intends to...</td>\n",
       "    </tr>\n",
       "    <tr>\n",
       "      <th>1007743</th>\n",
       "      <td>Poised to Leave Bankruptcy iHeartMedia Files f...</td>\n",
       "      <td>iHeartMedia Inc. the nations largest radio bro...</td>\n",
       "      <td>the company could increase the offering size d...</td>\n",
       "    </tr>\n",
       "    <tr>\n",
       "      <th>1007744</th>\n",
       "      <td>Poised to Leave Bankruptcy iHeartMedia Files f...</td>\n",
       "      <td>iHeartMedia Inc. the nations largest radio bro...</td>\n",
       "      <td>the company has said it expects to exit from b...</td>\n",
       "    </tr>\n",
       "    <tr>\n",
       "      <th>1007745</th>\n",
       "      <td>Poised to Leave Bankruptcy iHeartMedia Files f...</td>\n",
       "      <td>iHeartMedia Inc. the nations largest radio bro...</td>\n",
       "      <td>the radio broadcasters restructuring plan eras...</td>\n",
       "    </tr>\n",
       "  </tbody>\n",
       "</table>\n",
       "<p>1007746 rows × 3 columns</p>\n",
       "</div>"
      ],
      "text/plain": [
       "                                                     Title  \\\n",
       "0        Yes Bonds Could Still Rally Even With Yields B...   \n",
       "1        Yes Bonds Could Still Rally Even With Yields B...   \n",
       "2        Yes Bonds Could Still Rally Even With Yields B...   \n",
       "3        Yes Bonds Could Still Rally Even With Yields B...   \n",
       "4        Yes Bonds Could Still Rally Even With Yields B...   \n",
       "...                                                    ...   \n",
       "1007741  Poised to Leave Bankruptcy iHeartMedia Files f...   \n",
       "1007742  Poised to Leave Bankruptcy iHeartMedia Files f...   \n",
       "1007743  Poised to Leave Bankruptcy iHeartMedia Files f...   \n",
       "1007744  Poised to Leave Bankruptcy iHeartMedia Files f...   \n",
       "1007745  Poised to Leave Bankruptcy iHeartMedia Files f...   \n",
       "\n",
       "                                             Original_Text  \\\n",
       "0         Bond Yields Hit Record Lows is a headline tha...   \n",
       "1         Bond Yields Hit Record Lows is a headline tha...   \n",
       "2         Bond Yields Hit Record Lows is a headline tha...   \n",
       "3         Bond Yields Hit Record Lows is a headline tha...   \n",
       "4         Bond Yields Hit Record Lows is a headline tha...   \n",
       "...                                                    ...   \n",
       "1007741  iHeartMedia Inc. the nations largest radio bro...   \n",
       "1007742  iHeartMedia Inc. the nations largest radio bro...   \n",
       "1007743  iHeartMedia Inc. the nations largest radio bro...   \n",
       "1007744  iHeartMedia Inc. the nations largest radio bro...   \n",
       "1007745  iHeartMedia Inc. the nations largest radio bro...   \n",
       "\n",
       "                                                  Sentence  \n",
       "0        first the 30year bond yield fell past 2% then ...  \n",
       "1        a few market veterans also recall bondmarket r...  \n",
       "2        and even fewer stuck their necks out then to d...  \n",
       "3        today some of these early and prescient bond b...  \n",
       "4                  i never bought bonds for yield he said.  \n",
       "...                                                    ...  \n",
       "1007741  the nations largest radio broadcaster said wed...  \n",
       "1007742  the company with 848 radio stations intends to...  \n",
       "1007743  the company could increase the offering size d...  \n",
       "1007744  the company has said it expects to exit from b...  \n",
       "1007745  the radio broadcasters restructuring plan eras...  \n",
       "\n",
       "[1007746 rows x 3 columns]"
      ]
     },
     "execution_count": 4,
     "metadata": {},
     "output_type": "execute_result"
    }
   ],
   "source": [
    "from transformers import BertTokenizer\n",
    "import pandas as pd\n",
    "\n",
    "df = pd.read_csv('filtered_df_small_ver1106.csv')\n",
    "df"
   ]
  },
  {
   "cell_type": "code",
   "execution_count": 5,
   "metadata": {
    "colab": {
     "base_uri": "https://localhost:8080/"
    },
    "id": "M8111h8TciGU",
    "outputId": "56d13020-2164-4806-95f4-92583b52e4e1"
   },
   "outputs": [
    {
     "data": {
      "text/plain": [
       "Title            0\n",
       "Original_Text    0\n",
       "Sentence         0\n",
       "dtype: int64"
      ]
     },
     "execution_count": 5,
     "metadata": {},
     "output_type": "execute_result"
    }
   ],
   "source": [
    "# 결측치 확인\n",
    "\n",
    "missing_values = df.isnull().sum()\n",
    "missing_values"
   ]
  },
  {
   "cell_type": "code",
   "execution_count": 6,
   "metadata": {
    "colab": {
     "base_uri": "https://localhost:8080/"
    },
    "id": "N96GIUBqe-U4",
    "outputId": "e76f6474-74a0-4b08-c7b5-bc43d5bd4545"
   },
   "outputs": [
    {
     "data": {
      "text/plain": [
       "(56628,\n",
       "                                                      Title  \\\n",
       " 0        Yes Bonds Could Still Rally Even With Yields B...   \n",
       " 1        Yes Bonds Could Still Rally Even With Yields B...   \n",
       " 2        Yes Bonds Could Still Rally Even With Yields B...   \n",
       " 3        Yes Bonds Could Still Rally Even With Yields B...   \n",
       " 4        Yes Bonds Could Still Rally Even With Yields B...   \n",
       " ...                                                    ...   \n",
       " 1007741  Poised to Leave Bankruptcy iHeartMedia Files f...   \n",
       " 1007742  Poised to Leave Bankruptcy iHeartMedia Files f...   \n",
       " 1007743  Poised to Leave Bankruptcy iHeartMedia Files f...   \n",
       " 1007744  Poised to Leave Bankruptcy iHeartMedia Files f...   \n",
       " 1007745  Poised to Leave Bankruptcy iHeartMedia Files f...   \n",
       " \n",
       "                                              Original_Text  \\\n",
       " 0         Bond Yields Hit Record Lows is a headline tha...   \n",
       " 1         Bond Yields Hit Record Lows is a headline tha...   \n",
       " 2         Bond Yields Hit Record Lows is a headline tha...   \n",
       " 3         Bond Yields Hit Record Lows is a headline tha...   \n",
       " 4         Bond Yields Hit Record Lows is a headline tha...   \n",
       " ...                                                    ...   \n",
       " 1007741  iHeartMedia Inc. the nations largest radio bro...   \n",
       " 1007742  iHeartMedia Inc. the nations largest radio bro...   \n",
       " 1007743  iHeartMedia Inc. the nations largest radio bro...   \n",
       " 1007744  iHeartMedia Inc. the nations largest radio bro...   \n",
       " 1007745  iHeartMedia Inc. the nations largest radio bro...   \n",
       " \n",
       "                                                   Sentence  \n",
       " 0        first the 30year bond yield fell past 2% then ...  \n",
       " 1        a few market veterans also recall bondmarket r...  \n",
       " 2        and even fewer stuck their necks out then to d...  \n",
       " 3        today some of these early and prescient bond b...  \n",
       " 4                  i never bought bonds for yield he said.  \n",
       " ...                                                    ...  \n",
       " 1007741  the nations largest radio broadcaster said wed...  \n",
       " 1007742  the company with 848 radio stations intends to...  \n",
       " 1007743  the company could increase the offering size d...  \n",
       " 1007744  the company has said it expects to exit from b...  \n",
       " 1007745  the radio broadcasters restructuring plan eras...  \n",
       " \n",
       " [976739 rows x 3 columns])"
      ]
     },
     "execution_count": 6,
     "metadata": {},
     "output_type": "execute_result"
    }
   ],
   "source": [
    "# 중복 확인 및 제거\n",
    "\n",
    "duplicates = df[df.duplicated(subset=['Sentence'], keep=False)]\n",
    "duplicates_count = duplicates.shape[0]\n",
    "\n",
    "if duplicates_count > 0:\n",
    "    df = df.drop_duplicates(subset=['Sentence'], keep='first')\n",
    "\n",
    "duplicates_count, df"
   ]
  },
  {
   "cell_type": "code",
   "execution_count": 7,
   "metadata": {
    "colab": {
     "base_uri": "https://localhost:8080/",
     "height": 532
    },
    "id": "C9ctKBGGlacP",
    "outputId": "7d3099f1-eb9b-4e9a-ebb6-5f74d8c8d72e"
   },
   "outputs": [
    {
     "name": "stderr",
     "output_type": "stream",
     "text": [
      "C:\\Users\\gmleh\\AppData\\Local\\Temp\\ipykernel_18740\\2245309391.py:3: SettingWithCopyWarning: \n",
      "A value is trying to be set on a copy of a slice from a DataFrame.\n",
      "Try using .loc[row_indexer,col_indexer] = value instead\n",
      "\n",
      "See the caveats in the documentation: https://pandas.pydata.org/pandas-docs/stable/user_guide/indexing.html#returning-a-view-versus-a-copy\n",
      "  df['length'] = df.groupby('Title')['Sentence'].transform('count')\n"
     ]
    },
    {
     "data": {
      "text/html": [
       "<div>\n",
       "<style scoped>\n",
       "    .dataframe tbody tr th:only-of-type {\n",
       "        vertical-align: middle;\n",
       "    }\n",
       "\n",
       "    .dataframe tbody tr th {\n",
       "        vertical-align: top;\n",
       "    }\n",
       "\n",
       "    .dataframe thead th {\n",
       "        text-align: right;\n",
       "    }\n",
       "</style>\n",
       "<table border=\"1\" class=\"dataframe\">\n",
       "  <thead>\n",
       "    <tr style=\"text-align: right;\">\n",
       "      <th></th>\n",
       "      <th>Title</th>\n",
       "      <th>Original_Text</th>\n",
       "      <th>Sentence</th>\n",
       "      <th>length</th>\n",
       "    </tr>\n",
       "  </thead>\n",
       "  <tbody>\n",
       "    <tr>\n",
       "      <th>0</th>\n",
       "      <td>Yes Bonds Could Still Rally Even With Yields B...</td>\n",
       "      <td>Bond Yields Hit Record Lows is a headline tha...</td>\n",
       "      <td>first the 30year bond yield fell past 2% then ...</td>\n",
       "      <td>23</td>\n",
       "    </tr>\n",
       "    <tr>\n",
       "      <th>23</th>\n",
       "      <td>Kraft Heinz Reports Surging Demand and the Sto...</td>\n",
       "      <td>Surging demand during the coronavirus outbrea...</td>\n",
       "      <td>surging demand during the coronavirus outbrea...</td>\n",
       "      <td>16</td>\n",
       "    </tr>\n",
       "    <tr>\n",
       "      <th>39</th>\n",
       "      <td>ETFs Had a Tough 2019. Why They Could Bounce B...</td>\n",
       "      <td>The reports of my death are greatly exaggerat...</td>\n",
       "      <td>its true that the 225 new etfs in 2019 is a de...</td>\n",
       "      <td>10</td>\n",
       "    </tr>\n",
       "    <tr>\n",
       "      <th>49</th>\n",
       "      <td>The NikeAdidasPuma Olympics Battle Will Have t...</td>\n",
       "      <td>...And Puma takes the gold in a time of 9.81 s...</td>\n",
       "      <td>...and puma takes the gold in a time of 9.81 s...</td>\n",
       "      <td>17</td>\n",
       "    </tr>\n",
       "    <tr>\n",
       "      <th>66</th>\n",
       "      <td>Alexa Buy That Stock. TD Ameritrade Is Offerin...</td>\n",
       "      <td>Alexa buy me stocks that will . No Amazon.coms...</td>\n",
       "      <td>voice trading builds on the long list of techn...</td>\n",
       "      <td>8</td>\n",
       "    </tr>\n",
       "    <tr>\n",
       "      <th>...</th>\n",
       "      <td>...</td>\n",
       "      <td>...</td>\n",
       "      <td>...</td>\n",
       "      <td>...</td>\n",
       "    </tr>\n",
       "    <tr>\n",
       "      <th>1007692</th>\n",
       "      <td>Business News iHeartMedia Bets on Podcasting R...</td>\n",
       "      <td>iHeartMedia Inc. is turning up the volume on i...</td>\n",
       "      <td>the price was $55 million according to people ...</td>\n",
       "      <td>17</td>\n",
       "    </tr>\n",
       "    <tr>\n",
       "      <th>1007709</th>\n",
       "      <td>Business News Black News Radio Network Arrives...</td>\n",
       "      <td>iHeartMedia Inc. launched a national news netw...</td>\n",
       "      <td>black information network or bin went live tue...</td>\n",
       "      <td>5</td>\n",
       "    </tr>\n",
       "    <tr>\n",
       "      <th>1007714</th>\n",
       "      <td>Business News Radio Giant iHeartMedia Files fo...</td>\n",
       "      <td>iHeartMedia Inc. the company behind the bigges...</td>\n",
       "      <td>iheartmedia said in a statement early thursday...</td>\n",
       "      <td>8</td>\n",
       "    </tr>\n",
       "    <tr>\n",
       "      <th>1007722</th>\n",
       "      <td>Big Player In Radio Faces Reckoning</td>\n",
       "      <td>iHeartMedia Inc. the nations largest radio bro...</td>\n",
       "      <td>the nations largest radio broadcaster could fi...</td>\n",
       "      <td>19</td>\n",
       "    </tr>\n",
       "    <tr>\n",
       "      <th>1007741</th>\n",
       "      <td>Poised to Leave Bankruptcy iHeartMedia Files f...</td>\n",
       "      <td>iHeartMedia Inc. the nations largest radio bro...</td>\n",
       "      <td>the nations largest radio broadcaster said wed...</td>\n",
       "      <td>5</td>\n",
       "    </tr>\n",
       "  </tbody>\n",
       "</table>\n",
       "<p>81201 rows × 4 columns</p>\n",
       "</div>"
      ],
      "text/plain": [
       "                                                     Title  \\\n",
       "0        Yes Bonds Could Still Rally Even With Yields B...   \n",
       "23       Kraft Heinz Reports Surging Demand and the Sto...   \n",
       "39       ETFs Had a Tough 2019. Why They Could Bounce B...   \n",
       "49       The NikeAdidasPuma Olympics Battle Will Have t...   \n",
       "66       Alexa Buy That Stock. TD Ameritrade Is Offerin...   \n",
       "...                                                    ...   \n",
       "1007692  Business News iHeartMedia Bets on Podcasting R...   \n",
       "1007709  Business News Black News Radio Network Arrives...   \n",
       "1007714  Business News Radio Giant iHeartMedia Files fo...   \n",
       "1007722                Big Player In Radio Faces Reckoning   \n",
       "1007741  Poised to Leave Bankruptcy iHeartMedia Files f...   \n",
       "\n",
       "                                             Original_Text  \\\n",
       "0         Bond Yields Hit Record Lows is a headline tha...   \n",
       "23        Surging demand during the coronavirus outbrea...   \n",
       "39        The reports of my death are greatly exaggerat...   \n",
       "49       ...And Puma takes the gold in a time of 9.81 s...   \n",
       "66       Alexa buy me stocks that will . No Amazon.coms...   \n",
       "...                                                    ...   \n",
       "1007692  iHeartMedia Inc. is turning up the volume on i...   \n",
       "1007709  iHeartMedia Inc. launched a national news netw...   \n",
       "1007714  iHeartMedia Inc. the company behind the bigges...   \n",
       "1007722  iHeartMedia Inc. the nations largest radio bro...   \n",
       "1007741  iHeartMedia Inc. the nations largest radio bro...   \n",
       "\n",
       "                                                  Sentence  length  \n",
       "0        first the 30year bond yield fell past 2% then ...      23  \n",
       "23        surging demand during the coronavirus outbrea...      16  \n",
       "39       its true that the 225 new etfs in 2019 is a de...      10  \n",
       "49       ...and puma takes the gold in a time of 9.81 s...      17  \n",
       "66       voice trading builds on the long list of techn...       8  \n",
       "...                                                    ...     ...  \n",
       "1007692  the price was $55 million according to people ...      17  \n",
       "1007709  black information network or bin went live tue...       5  \n",
       "1007714  iheartmedia said in a statement early thursday...       8  \n",
       "1007722  the nations largest radio broadcaster could fi...      19  \n",
       "1007741  the nations largest radio broadcaster said wed...       5  \n",
       "\n",
       "[81201 rows x 4 columns]"
      ]
     },
     "execution_count": 7,
     "metadata": {},
     "output_type": "execute_result"
    }
   ],
   "source": [
    "# 몇 개의 문서가 있는지\n",
    "\n",
    "df['length'] = df.groupby('Title')['Sentence'].transform('count')\n",
    "df1 = df.drop_duplicates(subset='Title')\n",
    "df1"
   ]
  },
  {
   "cell_type": "code",
   "execution_count": 8,
   "metadata": {
    "colab": {
     "base_uri": "https://localhost:8080/"
    },
    "id": "LKbZGB7tnWKY",
    "outputId": "856acf47-95bd-4069-de92-7cb31045dcf0"
   },
   "outputs": [
    {
     "data": {
      "text/plain": [
       "count    81201.000000\n",
       "mean        12.028657\n",
       "std         41.834374\n",
       "min          1.000000\n",
       "25%          6.000000\n",
       "50%         10.000000\n",
       "75%         15.000000\n",
       "max       6896.000000\n",
       "Name: length, dtype: float64"
      ]
     },
     "execution_count": 8,
     "metadata": {},
     "output_type": "execute_result"
    }
   ],
   "source": [
    "df1['length'].describe()"
   ]
  },
  {
   "cell_type": "code",
   "execution_count": 9,
   "metadata": {
    "colab": {
     "base_uri": "https://localhost:8080/",
     "height": 676
    },
    "id": "fcGSC4Yinq48",
    "outputId": "43caee9b-b3bc-4267-83db-c59bef196cb2"
   },
   "outputs": [
    {
     "data": {
      "text/html": [
       "<div>\n",
       "<style scoped>\n",
       "    .dataframe tbody tr th:only-of-type {\n",
       "        vertical-align: middle;\n",
       "    }\n",
       "\n",
       "    .dataframe tbody tr th {\n",
       "        vertical-align: top;\n",
       "    }\n",
       "\n",
       "    .dataframe thead th {\n",
       "        text-align: right;\n",
       "    }\n",
       "</style>\n",
       "<table border=\"1\" class=\"dataframe\">\n",
       "  <thead>\n",
       "    <tr style=\"text-align: right;\">\n",
       "      <th></th>\n",
       "      <th>Title</th>\n",
       "      <th>Original_Text</th>\n",
       "      <th>Sentence</th>\n",
       "      <th>length</th>\n",
       "    </tr>\n",
       "  </thead>\n",
       "  <tbody>\n",
       "    <tr>\n",
       "      <th>444007</th>\n",
       "      <td>U.S. News U.S. Watch</td>\n",
       "      <td>2020 CAMPAIGN Pelosi Endorses Biden for Presid...</td>\n",
       "      <td>2020 campaign pelosi endorses biden for presid...</td>\n",
       "      <td>6896</td>\n",
       "    </tr>\n",
       "    <tr>\n",
       "      <th>468370</th>\n",
       "      <td>World News World Watch</td>\n",
       "      <td>AEGEAN SEA Quake Kills Dozens In Turkey and Gr...</td>\n",
       "      <td>aegean sea quake kills dozens in turkey and gr...</td>\n",
       "      <td>6190</td>\n",
       "    </tr>\n",
       "    <tr>\n",
       "      <th>444809</th>\n",
       "      <td>Business amp Finance</td>\n",
       "      <td>A $260 million settlement between four drug fi...</td>\n",
       "      <td>a $260 million settlement between four drug fi...</td>\n",
       "      <td>4297</td>\n",
       "    </tr>\n",
       "    <tr>\n",
       "      <th>469196</th>\n",
       "      <td>Greater New York Watch</td>\n",
       "      <td>ALBANY Bill Seeks to Legalize Prostitution in ...</td>\n",
       "      <td>albany bill seeks to legalize prostitution in ...</td>\n",
       "      <td>3616</td>\n",
       "    </tr>\n",
       "    <tr>\n",
       "      <th>444424</th>\n",
       "      <td>EXCHANGE The Score The Business Week in 7 Stocks</td>\n",
       "      <td>3M CO. MMM +2.6% 3Ms N95 face masks are still ...</td>\n",
       "      <td>3m co. mmm +2.6% 3ms n95 face masks are still ...</td>\n",
       "      <td>2668</td>\n",
       "    </tr>\n",
       "    <tr>\n",
       "      <th>444815</th>\n",
       "      <td>WorldWide</td>\n",
       "      <td>A $55 billion 1800mile pipeline is set to begi...</td>\n",
       "      <td>a $55 billion 1800mile pipeline is set to begi...</td>\n",
       "      <td>2234</td>\n",
       "    </tr>\n",
       "    <tr>\n",
       "      <th>441706</th>\n",
       "      <td>REVIEW Play News Quiz</td>\n",
       "      <td>1. To Kill a Mockingbird author Harper Lee the...</td>\n",
       "      <td>to kill a mockingbird author harper lee the su...</td>\n",
       "      <td>1497</td>\n",
       "    </tr>\n",
       "    <tr>\n",
       "      <th>9461</th>\n",
       "      <td>Letters to Barrons</td>\n",
       "      <td>A Futile Exercise To the Editor Having lived t...</td>\n",
       "      <td>a futile exercise to the editor having lived t...</td>\n",
       "      <td>1279</td>\n",
       "    </tr>\n",
       "    <tr>\n",
       "      <th>444634</th>\n",
       "      <td>Business News Business Watch</td>\n",
       "      <td>3M Company to Split Top Positions 3M Co. said ...</td>\n",
       "      <td>3m company to split top positions 3m co. said ...</td>\n",
       "      <td>1201</td>\n",
       "    </tr>\n",
       "    <tr>\n",
       "      <th>456730</th>\n",
       "      <td>U.S. News Economic Calendar</td>\n",
       "      <td>A holidayshortened week in the U.S. lightens t...</td>\n",
       "      <td>tuesday japans central bank releases a policy ...</td>\n",
       "      <td>880</td>\n",
       "    </tr>\n",
       "    <tr>\n",
       "      <th>444727</th>\n",
       "      <td>MANSION Private Properties</td>\n",
       "      <td>A $135 Million Spec Home in L.A. The developer...</td>\n",
       "      <td>a $135 million spec home in l.a.</td>\n",
       "      <td>829</td>\n",
       "    </tr>\n",
       "    <tr>\n",
       "      <th>468663</th>\n",
       "      <td>Business Watch</td>\n",
       "      <td>AIR PRODUCTS CHEMICALS Net Falls as Revenue In...</td>\n",
       "      <td>air products chemicals net falls as revenue in...</td>\n",
       "      <td>632</td>\n",
       "    </tr>\n",
       "    <tr>\n",
       "      <th>444058</th>\n",
       "      <td>Politics Washington Wire Dispatches from the N...</td>\n",
       "      <td>2020 POLITICAL AD SPENDING ESTIMATES BALLOON w...</td>\n",
       "      <td>2020 political ad spending estimates balloon w...</td>\n",
       "      <td>620</td>\n",
       "    </tr>\n",
       "    <tr>\n",
       "      <th>468476</th>\n",
       "      <td>World Watch</td>\n",
       "      <td>AFGHANISTAN Official Says Taliban Killed 11 So...</td>\n",
       "      <td>afghanistan official says taliban killed 11 so...</td>\n",
       "      <td>288</td>\n",
       "    </tr>\n",
       "    <tr>\n",
       "      <th>444122</th>\n",
       "      <td>Corporate Watch</td>\n",
       "      <td>21ST CENTURY FOX Profit Increases In the Lates...</td>\n",
       "      <td>21st century fox profit increases in the lates...</td>\n",
       "      <td>283</td>\n",
       "    </tr>\n",
       "    <tr>\n",
       "      <th>512620</th>\n",
       "      <td>Business News Corporate Watch</td>\n",
       "      <td>BERKSHIRE HATHAWAY Annual Meeting to Be Minus ...</td>\n",
       "      <td>geoffrey rogow gordon brothers group laura ash...</td>\n",
       "      <td>278</td>\n",
       "    </tr>\n",
       "    <tr>\n",
       "      <th>468694</th>\n",
       "      <td>Business News Earnings Watch</td>\n",
       "      <td>AIRBUS Jet Maker Expands Front Against Boeing ...</td>\n",
       "      <td>airbus jet maker expands front against boeing ...</td>\n",
       "      <td>277</td>\n",
       "    </tr>\n",
       "    <tr>\n",
       "      <th>207957</th>\n",
       "      <td>37 Stocks Poised to Emerge Even Stronger After...</td>\n",
       "      <td>Long ago in a kingdom far away people zoomed a...</td>\n",
       "      <td>long ago in a kingdom far away people zoomed a...</td>\n",
       "      <td>234</td>\n",
       "    </tr>\n",
       "    <tr>\n",
       "      <th>564539</th>\n",
       "      <td>REVIEW Play WSJ Brain Games</td>\n",
       "      <td>Corrections Amplifications In WSJ Brain Games ...</td>\n",
       "      <td>corrections amplifications in wsj brain games ...</td>\n",
       "      <td>213</td>\n",
       "    </tr>\n",
       "    <tr>\n",
       "      <th>865722</th>\n",
       "      <td>U.S. Sets Debt Sales</td>\n",
       "      <td>The Treasury Department plans to auction $87 b...</td>\n",
       "      <td>the treasury department plans to auction $87 b...</td>\n",
       "      <td>199</td>\n",
       "    </tr>\n",
       "  </tbody>\n",
       "</table>\n",
       "</div>"
      ],
      "text/plain": [
       "                                                    Title  \\\n",
       "444007                               U.S. News U.S. Watch   \n",
       "468370                             World News World Watch   \n",
       "444809                               Business amp Finance   \n",
       "469196                             Greater New York Watch   \n",
       "444424   EXCHANGE The Score The Business Week in 7 Stocks   \n",
       "444815                                          WorldWide   \n",
       "441706                              REVIEW Play News Quiz   \n",
       "9461                                   Letters to Barrons   \n",
       "444634                       Business News Business Watch   \n",
       "456730                        U.S. News Economic Calendar   \n",
       "444727                         MANSION Private Properties   \n",
       "468663                                     Business Watch   \n",
       "444058  Politics Washington Wire Dispatches from the N...   \n",
       "468476                                        World Watch   \n",
       "444122                                    Corporate Watch   \n",
       "512620                      Business News Corporate Watch   \n",
       "468694                       Business News Earnings Watch   \n",
       "207957  37 Stocks Poised to Emerge Even Stronger After...   \n",
       "564539                        REVIEW Play WSJ Brain Games   \n",
       "865722                               U.S. Sets Debt Sales   \n",
       "\n",
       "                                            Original_Text  \\\n",
       "444007  2020 CAMPAIGN Pelosi Endorses Biden for Presid...   \n",
       "468370  AEGEAN SEA Quake Kills Dozens In Turkey and Gr...   \n",
       "444809  A $260 million settlement between four drug fi...   \n",
       "469196  ALBANY Bill Seeks to Legalize Prostitution in ...   \n",
       "444424  3M CO. MMM +2.6% 3Ms N95 face masks are still ...   \n",
       "444815  A $55 billion 1800mile pipeline is set to begi...   \n",
       "441706  1. To Kill a Mockingbird author Harper Lee the...   \n",
       "9461    A Futile Exercise To the Editor Having lived t...   \n",
       "444634  3M Company to Split Top Positions 3M Co. said ...   \n",
       "456730  A holidayshortened week in the U.S. lightens t...   \n",
       "444727  A $135 Million Spec Home in L.A. The developer...   \n",
       "468663  AIR PRODUCTS CHEMICALS Net Falls as Revenue In...   \n",
       "444058  2020 POLITICAL AD SPENDING ESTIMATES BALLOON w...   \n",
       "468476  AFGHANISTAN Official Says Taliban Killed 11 So...   \n",
       "444122  21ST CENTURY FOX Profit Increases In the Lates...   \n",
       "512620  BERKSHIRE HATHAWAY Annual Meeting to Be Minus ...   \n",
       "468694  AIRBUS Jet Maker Expands Front Against Boeing ...   \n",
       "207957  Long ago in a kingdom far away people zoomed a...   \n",
       "564539  Corrections Amplifications In WSJ Brain Games ...   \n",
       "865722  The Treasury Department plans to auction $87 b...   \n",
       "\n",
       "                                                 Sentence  length  \n",
       "444007  2020 campaign pelosi endorses biden for presid...    6896  \n",
       "468370  aegean sea quake kills dozens in turkey and gr...    6190  \n",
       "444809  a $260 million settlement between four drug fi...    4297  \n",
       "469196  albany bill seeks to legalize prostitution in ...    3616  \n",
       "444424  3m co. mmm +2.6% 3ms n95 face masks are still ...    2668  \n",
       "444815  a $55 billion 1800mile pipeline is set to begi...    2234  \n",
       "441706  to kill a mockingbird author harper lee the su...    1497  \n",
       "9461    a futile exercise to the editor having lived t...    1279  \n",
       "444634  3m company to split top positions 3m co. said ...    1201  \n",
       "456730  tuesday japans central bank releases a policy ...     880  \n",
       "444727                   a $135 million spec home in l.a.     829  \n",
       "468663  air products chemicals net falls as revenue in...     632  \n",
       "444058  2020 political ad spending estimates balloon w...     620  \n",
       "468476  afghanistan official says taliban killed 11 so...     288  \n",
       "444122  21st century fox profit increases in the lates...     283  \n",
       "512620  geoffrey rogow gordon brothers group laura ash...     278  \n",
       "468694  airbus jet maker expands front against boeing ...     277  \n",
       "207957  long ago in a kingdom far away people zoomed a...     234  \n",
       "564539  corrections amplifications in wsj brain games ...     213  \n",
       "865722  the treasury department plans to auction $87 b...     199  "
      ]
     },
     "execution_count": 9,
     "metadata": {},
     "output_type": "execute_result"
    }
   ],
   "source": [
    "# 문서당 문장 개수 정렬\n",
    "\n",
    "df_sorted = df1.sort_values(by='length', ascending=False)\n",
    "df_sorted[0:20]"
   ]
  },
  {
   "cell_type": "code",
   "execution_count": 10,
   "metadata": {
    "colab": {
     "base_uri": "https://localhost:8080/",
     "height": 607
    },
    "id": "dzQCwAIsm9Ce",
    "outputId": "54d7d328-10bf-4706-af7e-616e58668aab"
   },
   "outputs": [
    {
     "data": {
      "image/png": "[encoded data removed]",
      "text/plain": [
       "<Figure size 800x600 with 1 Axes>"
      ]
     },
     "metadata": {},
     "output_type": "display_data"
    }
   ],
   "source": [
    "import matplotlib.pyplot as plt\n",
    "import numpy as np\n",
    "\n",
    "# length 열의 분포 시각화\n",
    "plt.figure(figsize=(8, 6))\n",
    "plt.hist(df_sorted[200:]['length'], bins=range(1, df_sorted[20:]['length'].max() + 2), align='left', color='skyblue', edgecolor='black')\n",
    "plt.title('Distribution of Number of Sentences per Title')\n",
    "plt.xlabel('Number of Sentences')\n",
    "plt.ylabel('Frequency')\n",
    "plt.xticks(np.arange(0, df_sorted[200:]['length'].max() + 1, 5))\n",
    "plt.grid(axis='y', linestyle='--', alpha=0.7)\n",
    "plt.tight_layout()\n",
    "plt.show()\n",
    "\n",
    "# 거의 5~25 문장"
   ]
  },
  {
   "cell_type": "code",
   "execution_count": 11,
   "metadata": {
    "colab": {
     "base_uri": "https://localhost:8080/"
    },
    "id": "IYPZ9glhe6x-",
    "outputId": "efdc8104-77c1-49fe-9930-35c1c8a08ef6"
   },
   "outputs": [
    {
     "name": "stderr",
     "output_type": "stream",
     "text": [
      "[nltk_data] Downloading package stopwords to\n",
      "[nltk_data]     C:\\Users\\gmleh\\AppData\\Roaming\\nltk_data...\n",
      "[nltk_data]   Package stopwords is already up-to-date!\n"
     ]
    },
    {
     "data": {
      "text/plain": [
       "[('said', 131665),\n",
       " ('year', 95570),\n",
       " ('billion', 88327),\n",
       " ('u', 84314),\n",
       " ('1', 83058),\n",
       " ('million', 78614),\n",
       " ('2', 66295),\n",
       " ('mr', 66127),\n",
       " ('new', 60204),\n",
       " ('company', 57477)]"
      ]
     },
     "execution_count": 11,
     "metadata": {},
     "output_type": "execute_result"
    }
   ],
   "source": [
    "# 많이 등장한 단어 분석\n",
    "\n",
    "from collections import Counter\n",
    "import re\n",
    "\n",
    "import nltk\n",
    "nltk.download('stopwords')\n",
    "from nltk.corpus import stopwords\n",
    "\n",
    "stop_words = set(stopwords.words('english'))\n",
    "\n",
    "# 모든 문장을 하나의 텍스트로 결합\n",
    "all_text = \" \".join(df['Sentence'])\n",
    "\n",
    "# 텍스트를 소문자로 변환하고, 단어별로 분할\n",
    "words = re.findall(r'\\b\\w+\\b', all_text.lower())\n",
    "\n",
    "# 단어의 빈도 계산\n",
    "word_freq = Counter(words)\n",
    "\n",
    "# 불용어를 제외하고 단어의 빈도 계산\n",
    "filtered_words = [word for word in words if word not in stop_words]\n",
    "filtered_word_freq = Counter(filtered_words)\n",
    "\n",
    "# 불용어를 제외한 가장 흔한 10개 단어 추출\n",
    "filtered_common_words = filtered_word_freq.most_common(10)\n",
    "filtered_common_words"
   ]
  },
  {
   "cell_type": "code",
   "execution_count": 12,
   "metadata": {
    "colab": {
     "base_uri": "https://localhost:8080/",
     "height": 564
    },
    "id": "tp2XyVlFeSui",
    "outputId": "ac068a26-6dc6-4e3c-ab64-13b331752f4e"
   },
   "outputs": [
    {
     "name": "stderr",
     "output_type": "stream",
     "text": [
      "C:\\Users\\gmleh\\AppData\\Local\\Temp\\ipykernel_18740\\2407896014.py:5: SettingWithCopyWarning: \n",
      "A value is trying to be set on a copy of a slice from a DataFrame.\n",
      "Try using .loc[row_indexer,col_indexer] = value instead\n",
      "\n",
      "See the caveats in the documentation: https://pandas.pydata.org/pandas-docs/stable/user_guide/indexing.html#returning-a-view-versus-a-copy\n",
      "  df['Word_Count'] = df['Sentence'].apply(lambda x: len(x.split()))\n"
     ]
    },
    {
     "data": {
      "image/png": "[encoded data removed]",
      "text/plain": [
       "<Figure size 1000x600 with 1 Axes>"
      ]
     },
     "metadata": {},
     "output_type": "display_data"
    }
   ],
   "source": [
    "# 전체 문서의 단어 수 분포 시각화\n",
    "\n",
    "import matplotlib.pyplot as plt\n",
    "\n",
    "df['Word_Count'] = df['Sentence'].apply(lambda x: len(x.split()))\n",
    "\n",
    "plt.figure(figsize=(10, 6))\n",
    "plt.hist(df['Word_Count'], bins=range(min(df['Word_Count']), max(df['Word_Count']) + 1), color='purple', alpha=0.7)\n",
    "plt.xlabel('Number of Words')\n",
    "plt.ylabel('Frequency')\n",
    "plt.title('Distribution of Word Counts in Sentences')\n",
    "plt.xticks(range(min(df['Word_Count']), max(df['Word_Count']) + 1, 10))\n",
    "plt.grid(axis='y', alpha=0.75)\n",
    "plt.show()\n"
   ]
  },
  {
   "cell_type": "code",
   "execution_count": 13,
   "metadata": {},
   "outputs": [
    {
     "data": {
      "text/html": [
       "<div>\n",
       "<style scoped>\n",
       "    .dataframe tbody tr th:only-of-type {\n",
       "        vertical-align: middle;\n",
       "    }\n",
       "\n",
       "    .dataframe tbody tr th {\n",
       "        vertical-align: top;\n",
       "    }\n",
       "\n",
       "    .dataframe thead th {\n",
       "        text-align: right;\n",
       "    }\n",
       "</style>\n",
       "<table border=\"1\" class=\"dataframe\">\n",
       "  <thead>\n",
       "    <tr style=\"text-align: right;\">\n",
       "      <th></th>\n",
       "      <th>Title</th>\n",
       "      <th>Original_Text</th>\n",
       "      <th>Sentence</th>\n",
       "      <th>length</th>\n",
       "      <th>Word_Count</th>\n",
       "    </tr>\n",
       "  </thead>\n",
       "  <tbody>\n",
       "    <tr>\n",
       "      <th>0</th>\n",
       "      <td>Yes Bonds Could Still Rally Even With Yields B...</td>\n",
       "      <td>Bond Yields Hit Record Lows is a headline tha...</td>\n",
       "      <td>first the 30year bond yield fell past 2% then ...</td>\n",
       "      <td>23</td>\n",
       "      <td>20</td>\n",
       "    </tr>\n",
       "    <tr>\n",
       "      <th>1</th>\n",
       "      <td>Yes Bonds Could Still Rally Even With Yields B...</td>\n",
       "      <td>Bond Yields Hit Record Lows is a headline tha...</td>\n",
       "      <td>a few market veterans also recall bondmarket r...</td>\n",
       "      <td>23</td>\n",
       "      <td>22</td>\n",
       "    </tr>\n",
       "    <tr>\n",
       "      <th>2</th>\n",
       "      <td>Yes Bonds Could Still Rally Even With Yields B...</td>\n",
       "      <td>Bond Yields Hit Record Lows is a headline tha...</td>\n",
       "      <td>and even fewer stuck their necks out then to d...</td>\n",
       "      <td>23</td>\n",
       "      <td>29</td>\n",
       "    </tr>\n",
       "    <tr>\n",
       "      <th>3</th>\n",
       "      <td>Yes Bonds Could Still Rally Even With Yields B...</td>\n",
       "      <td>Bond Yields Hit Record Lows is a headline tha...</td>\n",
       "      <td>today some of these early and prescient bond b...</td>\n",
       "      <td>23</td>\n",
       "      <td>53</td>\n",
       "    </tr>\n",
       "    <tr>\n",
       "      <th>4</th>\n",
       "      <td>Yes Bonds Could Still Rally Even With Yields B...</td>\n",
       "      <td>Bond Yields Hit Record Lows is a headline tha...</td>\n",
       "      <td>i never bought bonds for yield he said.</td>\n",
       "      <td>23</td>\n",
       "      <td>8</td>\n",
       "    </tr>\n",
       "    <tr>\n",
       "      <th>...</th>\n",
       "      <td>...</td>\n",
       "      <td>...</td>\n",
       "      <td>...</td>\n",
       "      <td>...</td>\n",
       "      <td>...</td>\n",
       "    </tr>\n",
       "    <tr>\n",
       "      <th>1007741</th>\n",
       "      <td>Poised to Leave Bankruptcy iHeartMedia Files f...</td>\n",
       "      <td>iHeartMedia Inc. the nations largest radio bro...</td>\n",
       "      <td>the nations largest radio broadcaster said wed...</td>\n",
       "      <td>5</td>\n",
       "      <td>37</td>\n",
       "    </tr>\n",
       "    <tr>\n",
       "      <th>1007742</th>\n",
       "      <td>Poised to Leave Bankruptcy iHeartMedia Files f...</td>\n",
       "      <td>iHeartMedia Inc. the nations largest radio bro...</td>\n",
       "      <td>the company with 848 radio stations intends to...</td>\n",
       "      <td>5</td>\n",
       "      <td>22</td>\n",
       "    </tr>\n",
       "    <tr>\n",
       "      <th>1007743</th>\n",
       "      <td>Poised to Leave Bankruptcy iHeartMedia Files f...</td>\n",
       "      <td>iHeartMedia Inc. the nations largest radio bro...</td>\n",
       "      <td>the company could increase the offering size d...</td>\n",
       "      <td>5</td>\n",
       "      <td>20</td>\n",
       "    </tr>\n",
       "    <tr>\n",
       "      <th>1007744</th>\n",
       "      <td>Poised to Leave Bankruptcy iHeartMedia Files f...</td>\n",
       "      <td>iHeartMedia Inc. the nations largest radio bro...</td>\n",
       "      <td>the company has said it expects to exit from b...</td>\n",
       "      <td>5</td>\n",
       "      <td>13</td>\n",
       "    </tr>\n",
       "    <tr>\n",
       "      <th>1007745</th>\n",
       "      <td>Poised to Leave Bankruptcy iHeartMedia Files f...</td>\n",
       "      <td>iHeartMedia Inc. the nations largest radio bro...</td>\n",
       "      <td>the radio broadcasters restructuring plan eras...</td>\n",
       "      <td>5</td>\n",
       "      <td>15</td>\n",
       "    </tr>\n",
       "  </tbody>\n",
       "</table>\n",
       "<p>914086 rows × 5 columns</p>\n",
       "</div>"
      ],
      "text/plain": [
       "                                                     Title  \\\n",
       "0        Yes Bonds Could Still Rally Even With Yields B...   \n",
       "1        Yes Bonds Could Still Rally Even With Yields B...   \n",
       "2        Yes Bonds Could Still Rally Even With Yields B...   \n",
       "3        Yes Bonds Could Still Rally Even With Yields B...   \n",
       "4        Yes Bonds Could Still Rally Even With Yields B...   \n",
       "...                                                    ...   \n",
       "1007741  Poised to Leave Bankruptcy iHeartMedia Files f...   \n",
       "1007742  Poised to Leave Bankruptcy iHeartMedia Files f...   \n",
       "1007743  Poised to Leave Bankruptcy iHeartMedia Files f...   \n",
       "1007744  Poised to Leave Bankruptcy iHeartMedia Files f...   \n",
       "1007745  Poised to Leave Bankruptcy iHeartMedia Files f...   \n",
       "\n",
       "                                             Original_Text  \\\n",
       "0         Bond Yields Hit Record Lows is a headline tha...   \n",
       "1         Bond Yields Hit Record Lows is a headline tha...   \n",
       "2         Bond Yields Hit Record Lows is a headline tha...   \n",
       "3         Bond Yields Hit Record Lows is a headline tha...   \n",
       "4         Bond Yields Hit Record Lows is a headline tha...   \n",
       "...                                                    ...   \n",
       "1007741  iHeartMedia Inc. the nations largest radio bro...   \n",
       "1007742  iHeartMedia Inc. the nations largest radio bro...   \n",
       "1007743  iHeartMedia Inc. the nations largest radio bro...   \n",
       "1007744  iHeartMedia Inc. the nations largest radio bro...   \n",
       "1007745  iHeartMedia Inc. the nations largest radio bro...   \n",
       "\n",
       "                                                  Sentence  length  Word_Count  \n",
       "0        first the 30year bond yield fell past 2% then ...      23          20  \n",
       "1        a few market veterans also recall bondmarket r...      23          22  \n",
       "2        and even fewer stuck their necks out then to d...      23          29  \n",
       "3        today some of these early and prescient bond b...      23          53  \n",
       "4                  i never bought bonds for yield he said.      23           8  \n",
       "...                                                    ...     ...         ...  \n",
       "1007741  the nations largest radio broadcaster said wed...       5          37  \n",
       "1007742  the company with 848 radio stations intends to...       5          22  \n",
       "1007743  the company could increase the offering size d...       5          20  \n",
       "1007744  the company has said it expects to exit from b...       5          13  \n",
       "1007745  the radio broadcasters restructuring plan eras...       5          15  \n",
       "\n",
       "[914086 rows x 5 columns]"
      ]
     },
     "execution_count": 13,
     "metadata": {},
     "output_type": "execute_result"
    }
   ],
   "source": [
    "# 단어 수 60 이상인 문장, 문서 내 문장 수가 50 이상인 문서 제거\n",
    "\n",
    "df = df[df['Word_Count'] < 60]\n",
    "df = df[df['length'] < 50]\n",
    "df"
   ]
  },
  {
   "cell_type": "code",
   "execution_count": 14,
   "metadata": {
    "colab": {
     "base_uri": "https://localhost:8080/"
    },
    "id": "1hjTl8BHgfRa",
    "outputId": "a3e64640-5fc0-44b4-a0b5-ccb47060fa31"
   },
   "outputs": [
    {
     "data": {
      "text/plain": [
       "count    914086.000000\n",
       "mean         24.126337\n",
       "std           9.994406\n",
       "min           5.000000\n",
       "25%          17.000000\n",
       "50%          23.000000\n",
       "75%          30.000000\n",
       "max          59.000000\n",
       "Name: Word_Count, dtype: float64"
      ]
     },
     "execution_count": 14,
     "metadata": {},
     "output_type": "execute_result"
    }
   ],
   "source": [
    "word_count_statistics = df['Word_Count'].describe()\n",
    "word_count_statistics"
   ]
  },
  {
   "cell_type": "code",
   "execution_count": 15,
   "metadata": {
    "id": "-EveTvkRvsrG"
   },
   "outputs": [
    {
     "data": {
      "image/png": "[encoded data removed]",
      "text/plain": [
       "<Figure size 1000x600 with 1 Axes>"
      ]
     },
     "metadata": {},
     "output_type": "display_data"
    }
   ],
   "source": [
    "plt.figure(figsize=(10, 6))\n",
    "plt.hist(df['Word_Count'], bins=range(min(df['Word_Count']), max(df['Word_Count']) + 1), color='purple', alpha=0.7)\n",
    "plt.xlabel('Number of Words')\n",
    "plt.ylabel('Frequency')\n",
    "plt.title('Distribution of Word Counts in Sentences')\n",
    "plt.xticks(range(min(df['Word_Count']), max(df['Word_Count']) + 1, 5))\n",
    "plt.grid(axis='y', alpha=0.75)\n",
    "plt.show()"
   ]
  },
  {
   "cell_type": "code",
   "execution_count": 16,
   "metadata": {
    "colab": {
     "base_uri": "https://localhost:8080/"
    },
    "id": "95q1kB0skPFz",
    "outputId": "9cf065a0-91ab-46cb-d324-d8a9fdae33ae"
   },
   "outputs": [
    {
     "data": {
      "text/plain": [
       "count    914086.000000\n",
       "mean         24.126337\n",
       "std           9.994406\n",
       "min           5.000000\n",
       "25%          17.000000\n",
       "50%          23.000000\n",
       "75%          30.000000\n",
       "max          59.000000\n",
       "Name: Word_Count, dtype: float64"
      ]
     },
     "execution_count": 16,
     "metadata": {},
     "output_type": "execute_result"
    }
   ],
   "source": [
    "df['Word_Count'].describe()"
   ]
  },
  {
   "cell_type": "code",
   "execution_count": 17,
   "metadata": {},
   "outputs": [
    {
     "name": "stdout",
     "output_type": "stream",
     "text": [
      "27072827\n"
     ]
    }
   ],
   "source": [
    "# 사용하는 총 토큰 수 구하기\n",
    "\n",
    "tokenizer = BertTokenizer.from_pretrained('bert-base-uncased')\n",
    "\n",
    "df['Token'] = df['Sentence'].apply(lambda x: len(tokenizer.tokenize(x)))\n",
    "\n",
    "total_tokens = df['Token'].sum()\n",
    "\n",
    "print(total_tokens)"
   ]
  },
  {
   "cell_type": "code",
   "execution_count": 40,
   "metadata": {
    "colab": {
     "base_uri": "https://localhost:8080/",
     "height": 424
    },
    "id": "oAfYux0_nAZH",
    "outputId": "417fd717-e0b3-4465-ea93-3c96e42d3a3c"
   },
   "outputs": [],
   "source": [
    "# 필요없는 열 삭제\n",
    "\n",
    "filtered_df = df[['Sentence']]\n",
    "filtered_df\n",
    "\n",
    "# 10만개 문장만 사용\n",
    "\n",
    "sampled_df = filtered_df.sample(n=100000, random_state=1, ignore_index=True)"
   ]
  },
  {
   "cell_type": "code",
   "execution_count": 41,
   "metadata": {},
   "outputs": [
    {
     "data": {
      "text/html": [
       "<div>\n",
       "<style scoped>\n",
       "    .dataframe tbody tr th:only-of-type {\n",
       "        vertical-align: middle;\n",
       "    }\n",
       "\n",
       "    .dataframe tbody tr th {\n",
       "        vertical-align: top;\n",
       "    }\n",
       "\n",
       "    .dataframe thead th {\n",
       "        text-align: right;\n",
       "    }\n",
       "</style>\n",
       "<table border=\"1\" class=\"dataframe\">\n",
       "  <thead>\n",
       "    <tr style=\"text-align: right;\">\n",
       "      <th></th>\n",
       "      <th>Sentence</th>\n",
       "    </tr>\n",
       "  </thead>\n",
       "  <tbody>\n",
       "    <tr>\n",
       "      <th>0</th>\n",
       "      <td>the eddc is planning $150 million of opportuni...</td>\n",
       "    </tr>\n",
       "    <tr>\n",
       "      <th>1</th>\n",
       "      <td>the reports come 45 days after the close of th...</td>\n",
       "    </tr>\n",
       "    <tr>\n",
       "      <th>2</th>\n",
       "      <td>money used for buybacks should be used to redu...</td>\n",
       "    </tr>\n",
       "    <tr>\n",
       "      <th>3</th>\n",
       "      <td>if the past few years are anything to go by th...</td>\n",
       "    </tr>\n",
       "    <tr>\n",
       "      <th>4</th>\n",
       "      <td>the same organization also published a survey ...</td>\n",
       "    </tr>\n",
       "    <tr>\n",
       "      <th>...</th>\n",
       "      <td>...</td>\n",
       "    </tr>\n",
       "    <tr>\n",
       "      <th>79995</th>\n",
       "      <td>the aftermath of george floyds death in minnea...</td>\n",
       "    </tr>\n",
       "    <tr>\n",
       "      <th>79996</th>\n",
       "      <td>last month amd became the topperforming stock ...</td>\n",
       "    </tr>\n",
       "    <tr>\n",
       "      <th>79997</th>\n",
       "      <td>lenschow maintained his overweight rating and ...</td>\n",
       "    </tr>\n",
       "    <tr>\n",
       "      <th>79998</th>\n",
       "      <td>laura burke a 22yearold emergency medical tech...</td>\n",
       "    </tr>\n",
       "    <tr>\n",
       "      <th>79999</th>\n",
       "      <td>voters approved adult recreational use in 2016.</td>\n",
       "    </tr>\n",
       "  </tbody>\n",
       "</table>\n",
       "<p>80000 rows × 1 columns</p>\n",
       "</div>"
      ],
      "text/plain": [
       "                                                Sentence\n",
       "0      the eddc is planning $150 million of opportuni...\n",
       "1      the reports come 45 days after the close of th...\n",
       "2      money used for buybacks should be used to redu...\n",
       "3      if the past few years are anything to go by th...\n",
       "4      the same organization also published a survey ...\n",
       "...                                                  ...\n",
       "79995  the aftermath of george floyds death in minnea...\n",
       "79996  last month amd became the topperforming stock ...\n",
       "79997  lenschow maintained his overweight rating and ...\n",
       "79998  laura burke a 22yearold emergency medical tech...\n",
       "79999    voters approved adult recreational use in 2016.\n",
       "\n",
       "[80000 rows x 1 columns]"
      ]
     },
     "execution_count": 41,
     "metadata": {},
     "output_type": "execute_result"
    }
   ],
   "source": [
    "sampled_df"
   ]
  },
  {
   "cell_type": "code",
   "execution_count": 24,
   "metadata": {
    "id": "a3GkjMXznh8H"
   },
   "outputs": [],
   "source": [
    "# csv 저장\n",
    "\n",
    "# sampled_df.to_csv('df_further_filtered_100000.csv')"
   ]
  },
  {
   "cell_type": "code",
   "execution_count": 42,
   "metadata": {
    "id": "gCAK5RbCn6al"
   },
   "outputs": [],
   "source": [
    "# txt 저장\n",
    "\n",
    "sampled_df.to_csv('df_further_filtered_100000.txt', sep='\\n', header=False, index=False)"
   ]
  },
  {
   "cell_type": "code",
   "execution_count": null,
   "metadata": {},
   "outputs": [],
   "source": []
  }
 ],
 "metadata": {
  "colab": {
   "provenance": []
  },
  "kernelspec": {
   "display_name": "Python 3 (ipykernel)",
   "language": "python",
   "name": "python3"
  },
  "language_info": {
   "codemirror_mode": {
    "name": "ipython",
    "version": 3
   },
   "file_extension": ".py",
   "mimetype": "text/x-python",
   "name": "python",
   "nbconvert_exporter": "python",
   "pygments_lexer": "ipython3",
   "version": "3.9.13"
  }
 },
 "nbformat": 4,
 "nbformat_minor": 1
}
